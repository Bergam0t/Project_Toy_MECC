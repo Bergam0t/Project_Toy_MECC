{
  "cells": [
    {
      "cell_type": "raw",
      "metadata": {},
      "source": [
        "---\n",
        "title: \"MECC Simulation\"\n",
        "execute:\n",
        "  echo: false\n",
        "format:\n",
        "    html:\n",
        "        # toc: true\n",
        "        embed-resources: true\n",
        "        # URL options\n",
        "        # link-external-icon: true\n",
        "        # link-external-newwindow: true\n",
        "        # Reference options\n",
        "        # citations-hover: true\n",
        "        # footnotes-hover: true\n",
        "        #####################\n",
        "        # NHS Theme options #\n",
        "        #####################\n",
        "        css: \"NHS_report_theme.css\"\n",
        "        callout-appearance: simple\n",
        "        callout-collapse: true\n",
        "        # Caption options\n",
        "        cap-location: bottom\n",
        "        # Title options\n",
        "        title-block-banner: '#005EB8'\n",
        "        backgroundcolor: '#f0f4f5'\n",
        "        # Set font\n",
        "        mainfont: 'Open Sans'\n",
        "---"
      ],
      "id": "aa1c16a9"
    },
    {
      "cell_type": "markdown",
      "metadata": {},
      "source": [
        "![](resources\\MECC.jpg){height=100}\n"
      ],
      "id": "6a3a8487"
    },
    {
      "cell_type": "code",
      "metadata": {},
      "source": [
        "from model_two_types_mecc import MECC_Model as mc\n",
        "from streamlit_model_functions import run_simulation_step as rst\n",
        "\n",
        "\n",
        "print(rst.data)\n",
        "\n",
        "# print(f'{self.num_people}')"
      ],
      "id": "e79c4c68",
      "execution_count": null,
      "outputs": []
    },
    {
      "cell_type": "markdown",
      "metadata": {},
      "source": [
        "## Parameters\n",
        "\n",
        "### Population Parameters\n",
        "\n",
        "### Primary Care Parameters\n",
        "\n",
        "### Simulation Parameters\n",
        "\n",
        "## Outputs\n",
        "<!-- `{python}  -->\n",
        "<!-- Dictionary to store all parameter values\n",
        "model_parameters = {\n",
        "    \"model_seed\": model_seed,\n",
        "    \"N_people\": N_people,\n",
        "    \"N_service\": 1, ## set to 1 as currently not used\n",
        "    \"initial_smoking_prob\": initial_smoking_prob,\n",
        "    \"visit_prob\": visit_prob,\n",
        "    \"quit_attempt_prob\": quit_attempt_prob,\n",
        "    \"base_smoke_relapse_prob\": base_smoke_relapse_prob,\n",
        "    #\"N_service\": 1,\n",
        "    \"base_make_intervention_prob\": base_make_intervention_prob,\n",
        "    \"mecc_effect\": mecc_effect,\n",
        "    \"intervention_effect\": intervention_effect,\n",
        "    }\n",
        " -->\n",
        "    <!-- st.markdown(\"#### Population Parameters\")\n",
        "    N_people = st.slider(\"Number of People\", 5, 100, 50)\n",
        "    initial_smoking_prob = st.slider(\"Initial Smoking Probability\", 0.0, 1.0, 0.5)\n",
        "    visit_prob = st.slider(\"Chance of Visiting a Service per Month\", 0.0, 1.0, 0.1)\n",
        "    quit_attempt_prob = st.slider(\"Base Quit Attempt Probability per Month\", 0.00, 1.00, 0.01)\n",
        "    base_smoke_relapse_prob = st.slider(\"Base Smoking Relapse per Month\", 0.00, 1.00, 0.01)\n",
        "    st.markdown(\"*Replase chance decreases over time of not smoking*\")\n",
        "\n",
        "    st.markdown(\"#### Service Parameters\")\n",
        "    #N_service = st.slider(\"Number of Services\", 1, 20, 5) ##not used\n",
        "    base_make_intervention_prob = st.slider(\"Chance a Brief Intervention Made Without MECC\", 0.0, 1.0, 0.1)\n",
        "    #intervention_radius = st.slider(\"Intervention Radius\", 1, 5, 2)\n",
        "\n",
        "    st.markdown(\"#### MECC Parameters\")\n",
        "    mecc_effect = st.slider(\"Chance Making a Brief Intervention After MECC Training\", 0.0, 1.0, 1.0)\n",
        "    intervention_effect = st.slider(\"Effect of a Brief Intervention on Chance Making a Quit Attempt\", 0.0, 10.0, 1.1)\n",
        "    st.markdown(\"*Numbers less than 1 will decrease the probability*\")\n",
        "\n",
        "    st.markdown(\"#### Simulation Parameters\")\n",
        "    model_seed = st.number_input(\"Random Seed\",min_value=0,max_value=None,value=42,step=1) \n",
        "    num_steps = st.slider(\"Number of Months to Simulate\", 1, 120, 24)\n",
        "    animation_speed =\n",
        "\n",
        "     -->"
      ],
      "id": "c04cc05a"
    }
  ],
  "metadata": {
    "kernelspec": {
      "name": "python3",
      "language": "python",
      "display_name": "Python 3 (ipykernel)"
    }
  },
  "nbformat": 4,
  "nbformat_minor": 5
}