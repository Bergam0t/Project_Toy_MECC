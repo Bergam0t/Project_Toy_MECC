{
  "cells": [
    {
      "cell_type": "raw",
      "metadata": {},
      "source": [
        "---\n",
        "title: \"MECC Simulation\"\n",
        "format: html\n",
        "---"
      ],
      "id": "a85409c9"
    },
    {
      "cell_type": "markdown",
      "metadata": {},
      "source": [
        "![](resources\\MECC.jpg){height=100}\n"
      ],
      "id": "573b0c04"
    },
    {
      "cell_type": "code",
      "metadata": {},
      "source": [
        "from model_two_types_mecc import MECC_Model\n",
        "\n",
        "print(f'{self.num_people}')"
      ],
      "id": "6bc4ef5f",
      "execution_count": null,
      "outputs": []
    },
    {
      "cell_type": "markdown",
      "metadata": {},
      "source": [
        "## Parameters\n",
        "\n",
        "### Population Parameters\n",
        "\n",
        "### Primary Care Parameters\n",
        "\n",
        "### Simulation Parameters\n",
        "\n",
        "## Outputs"
      ],
      "id": "8d409a3c"
    }
  ],
  "metadata": {
    "kernelspec": {
      "name": "python3",
      "language": "python",
      "display_name": "Python 3 (ipykernel)"
    }
  },
  "nbformat": 4,
  "nbformat_minor": 5
}